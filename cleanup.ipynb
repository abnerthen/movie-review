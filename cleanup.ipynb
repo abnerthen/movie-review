{
 "cells": [
  {
   "cell_type": "code",
   "execution_count": 45,
   "metadata": {},
   "outputs": [],
   "source": [
    "import os\n",
    "import pandas as pd\n",
    "\n",
    "# Define the function for reading text files\n",
    "def read_text_file(file_path):\n",
    "    with open(file_path, 'r', encoding='utf-8') as file:\n",
    "        return file.read()\n",
    "\n",
    "# Initialize an empty DataFrame\n",
    "csv_df = pd.DataFrame(columns=['Type', 'Number', 'Rating', 'Content'])\n",
    "\n",
    "# Function to process files in a given directory\n",
    "def process_files(path, sentiment):\n",
    "    global csv_df  # Refer to the global DataFrame variable\n",
    "    rows_list = []  # A list to store row data before appending\n",
    "    \n",
    "    for file in os.listdir(path):\n",
    "        if file.endswith('.txt'):\n",
    "            name, _ = file.split('.')\n",
    "            num, rating = name.split('_')\n",
    "            file_path = os.path.join(path, file)  # Corrected file path using os.path.join\n",
    "            content = read_text_file(file_path)  # Reading the file content\n",
    "            \n",
    "            # Store the row data as a dictionary\n",
    "            row_data = {'Type': sentiment, 'Number': num, 'Rating': rating, 'Content': content}\n",
    "            rows_list.append(row_data)  # Append the dictionary to the list\n",
    "    \n",
    "    # Once all files are processed, append all at once using pd.concat\n",
    "    csv_df = pd.concat([csv_df, pd.DataFrame(rows_list)], ignore_index=True)\n",
    "\n",
    "# Process positive reviews\n",
    "path_pos = '/Users/kangzhe/Documents/y1s2/IT1244/Project/Dataset/Textual Datasets/Movie Review/data/pos'\n",
    "process_files(path_pos, 'pos')\n",
    "\n",
    "# Process negative reviews\n",
    "path_neg = '../neg'\n",
    "process_files(path_neg, 'neg')\n",
    "\n",
    "# Save the DataFrame to a CSV file\n",
    "csv_df.to_csv('../data.csv', index=False)\n"
   ]
  }
 ],
 "metadata": {
  "kernelspec": {
   "display_name": "Python 3",
   "language": "python",
   "name": "python3"
  },
  "language_info": {
   "codemirror_mode": {
    "name": "ipython",
    "version": 3
   },
   "file_extension": ".py",
   "mimetype": "text/x-python",
   "name": "python",
   "nbconvert_exporter": "python",
   "pygments_lexer": "ipython3",
   "version": "3.11.7"
  }
 },
 "nbformat": 4,
 "nbformat_minor": 2
}
